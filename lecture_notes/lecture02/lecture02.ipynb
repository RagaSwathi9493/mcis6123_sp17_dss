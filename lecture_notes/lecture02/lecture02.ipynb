{
 "cells": [
  {
   "cell_type": "markdown",
   "metadata": {},
   "source": [
    "# LECTURE 2 NOTES"
   ]
  },
  {
   "cell_type": "markdown",
   "metadata": {},
   "source": [
    "## DSS and Business Intelligence\n",
    "\n",
    "As we move through the materials in this course, we will be confronted with a number of terms \"Decision Support Systems\", \"DSS\", \"Business Intelligence\", \"BI\" and \"Analytics\".  In general, DSS and BI will be considered the same thing in this course.  You may perhaps see the more common \"Business Intelligence\" (BI) term used today, and generally refers to the same problem and solution space as \"DSS\".  You may also see the term \"iDSS\" to refer to \"intelligent\" DSS, and again, this \"intelligent\" qualifier is often used to indicate that some artificial intelligence, machine learning or intelligent algorithm is used within the context of the DSS, but generally speaking it is assumed in today's systems that such \"intelligence\" is used by default, so don't be confused by such qualifier.  We will use BI and DSS interchangeably, so when you see either term, assume that are one and the same for this course."
   ]
  },
  {
   "cell_type": "markdown",
   "metadata": {},
   "source": [
    "## Analytics\n",
    "\n",
    "Analytics plays a crucial part of the development of any DSS/BI system and refers to the capabilities provided by a system that allow for the display and manipulation of decision predicates (data/inputs).  Though it may seem that much of what we talk about here may belong mostly in a disussion about algorithms and computational decision tools, in fact, analytics play a role in all components of a DSS (inputs/data, computation/algorithms, user interaction/visualization).\n",
    "\n",
    "There are three analytics \"modalities\" or dimensions that we will become familiar with throughout the course:\n",
    "\n",
    "* descriptive analytics\n",
    "* predictive analytics\n",
    "* prescriptive analytics\n",
    "\n",
    "Most systems will include access to at least descriptive and predictive analytics, though prescriptive analytics is a modality that is not ncessarily as common.  It is becoming more common as businesses are interested in what happened (descriptive), what might happen (predictive) and what the best thing to do next to achieve the desired outcome (prescriptive)."
   ]
  },
  {
   "cell_type": "markdown",
   "metadata": {},
   "source": [
    "### FRAMEWORK\n",
    "\n",
    "The framework we will use to talk about analytics will require us to turn our attention back to the the three primary components of a BI system explored earlier.  Each system is compose of a series of inputs which feed into a \"decision predicate\" processing subsystem.  As indicated before, such subsystem is responsible for collecting, storing and otherwise managing the inputs to any BI processing.  These systems are crucial for satisfying the data requirements for appropriate storage, replication, integrity, access control and archiving. \n",
    "\n",
    "### DESCRIPTIVE ANALYTICS\n",
    "\n",
    "_Descriptive analytics_ refer to the processing of decision predicates (data) to detail the state of what has happened or what _is currently happening_.  For example, to understand the effectiveness of a marketing campaign it is necessary to get a historical view of sales, including the various market segments that had participated in the campaign, etc.  Descriptive analytics are effective at showing such data precisely.  You may already be familiar with descriptive analytics (and perhaps not even know it), because many interactive dashboards and visualizations display such descriptive data.  When you log into your bank account and ask for a report of the spending categories of your transactions over a month, or over a year, you will be viewing the descriptive \"analytics\" of such transactions.  While you are not likely to receive any advice about your future spending or gain any tips on how to allocate your money better next month or next year, you will get useful snapshots of \"the past behavior\" and that is often valuable enough information. Thus descriptive analytics are commonly the first type of data designed into the human interaction / visualization component of a DSS and often in the form of _dashboards_ and _infographics_.  \n",
    "\n",
    "**Dashboards** are detailed displays of descriptive analytics that provide various levels of data visualization and interaction. They often provide interaction that allows data to be manipulated to show various views and perspectives of the same data.  Sales dashboards, for example, are used in sales analytics, to visualize current sales, perhaps allowing a sales engineer to segment sales by geographic region, demographic profile, time scale (e.g. aggregated by day, week, month, quarter) or product type.  Such a dashboard might let the engineer select and combine any or all of such attributes of the data, thus exploiting the full capabilities of the dashboard.\n",
    "\n",
    "**Infographics** are often used hand in hand with dashboards to provide highlights and snapshots that emphasize certain data, and are often used in customer or facing scenarios or in marketing. While commonly associated with static media (paper, brochures, posters), infographics are becoming more immersive, dynamic and interactive where the lines between dashboards and infographics blur.\n",
    "\n",
    "<!-- ![]()  dashboard demp -->\n",
    "\n",
    "### PREDICTIVE ANALYTICS\n",
    "\n",
    "Contrast descriptive analytics with _predictive analytics_ where decision predicates are used to build models of **future** states.  For example, when giving personal loans to individual borrowers, banks have to understand the full extent of the risks they  may be exposed to with a given borrower. They have to first look at the **descriptive** analytics profile of a borrower -- that is what is the borrower's historical behavior with other lenders.  Do they have a strong on-time payment history?  Have they been successful at paying back previous loans?  Do they have a tendency to borrow money only when they need it (emergencies, home repairs, etc.)? Have they had a borrowing history for leisure and non-essential expenditures (vacations, cars, expensive electronics, etc.)? Have they had a borrowing history involving legal expenses (law suits, divorce, etc.)?  Though these types of descriptive analytics might give the lender a detailed view of historical behavior, they do not provide tools for understanding future behavior.  With _predictive analytics_ historical data derived from descriptive analytics are used to take a significant step further to make inferences and predictions about the future.  Predictive analytic tools fall squarely within the _computational decision aids_ component capabilities of a DSS and as we will see, may employ a number of sophisticated algorithms and statistical tools upon which to build often highly accurate and reliable models of future behavior and states of events. Though making predictions is the ultimate goal of predictive analytics, visualizing these predictions is perhaps even more important.  Seeing the outcome of predicted events and visualizing the scenarios and _impact_ such events have on other variables, can help the lender in our prior example see what the projected future state of a borrower's financial profile might be.  For example, it might help lender choose the appropriate loan limit by predicting how a borrowers projected spending behavior will change with respect to how their income is likely to increase given the borrower's occupation.\n",
    "\n",
    "#### CASE STUDY: Lending Analytics\n",
    "> How are predictive analytics used in bank lending\n",
    "\n",
    "How might predictive analytics flow into human interfaces and interactivity?  \n",
    "\n",
    "### PRESCRIPTIVE ANALYTICS\n",
    "\n",
    "While still the subject of debate, at least in terms of the formal definition, prescriptive analytics aim to combine the historical perspective of descriptive analytics with the forward looking perspective of predictive analytics and provide optimizations on the best alternatives for a decision objective.  Prescriptive analytics are where a DSS becomes fully realized, because it is with prescriptive analytics that _action_ can (and often does) take place. suggested with the hope that such action fully realizes the decision requirements set forth.  For example, given a set of real-world constraints prescriptive analytics provides\n",
    "![Prescriptive Analytics Process](assets/prescriptive_analytics_overview.png)"
   ]
  },
  {
   "cell_type": "markdown",
   "metadata": {
    "collapsed": true
   },
   "source": [
    "## MODELING DECISIONS"
   ]
  }
 ],
 "metadata": {
  "anaconda-cloud": {},
  "kernelspec": {
   "display_name": "Python [conda root]",
   "language": "python",
   "name": "conda-root-py"
  },
  "language_info": {
   "codemirror_mode": {
    "name": "ipython",
    "version": 3
   },
   "file_extension": ".py",
   "mimetype": "text/x-python",
   "name": "python",
   "nbconvert_exporter": "python",
   "pygments_lexer": "ipython3",
   "version": "3.5.2"
  }
 },
 "nbformat": 4,
 "nbformat_minor": 1
}
