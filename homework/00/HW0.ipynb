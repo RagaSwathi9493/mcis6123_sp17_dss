HOMEWORK#0
1.	Tableau account:
 
2.	GitHub account:
 

3.	Sample report for good value MBAs
Link : https://public.tableau.com/en-us/s/gallery/good-value-mbas
Here we have an analysis of full-time MBA programmers according to the university of their study with Forgone salary and tution fee compared to post-MBA salary.
This graph represents the worth of getting MBA based on time and money.
Also we have a ranks based on Total cost,Forgone salary,Tution fee,Return on investment etc.
Bar graph represents like this:
 













4.	Link of Github repository:
https://github.com/tensorflow/tensorflow
This repository helps for Computation using data flow graphs for scalable machine learning with tensorflow.
TensorFlow  is an open source software library for numerical computation using data flow graphs.
In a repository we can have options to create new file,upload file and find file and clone or download.
Multiple authors can have permission to access the repository.We can see number of commits,branches,releases,contributors.Also we can see the latest commit time.

Respository structure:
 
